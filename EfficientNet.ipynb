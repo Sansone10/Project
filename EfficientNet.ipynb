{
 "cells": [
  {
   "cell_type": "code",
   "execution_count": 1,
   "id": "db8c4f8d-a3d2-4986-a7d5-8857d8c4d2db",
   "metadata": {},
   "outputs": [],
   "source": [
    "import math\n",
    "import numpy as np\n",
    "import torch\n",
    "from torch import nn, optim\n",
    "import torchvision.transforms as transforms\n",
    "from torch.hub import load_state_dict_from_url\n",
    "import torchvision\n",
    "from PIL import Image\n",
    "import matplotlib.pyplot as plt\n",
    "import os\n",
    "from torch.utils.data import Dataset\n",
    "from torchvision import datasets, transforms\n",
    "from torchvision.datasets import ImageFolder\n",
    "from torchvision.transforms import transforms\n",
    "import timm"
   ]
  },
  {
   "cell_type": "code",
   "execution_count": 2,
   "id": "3b08d8b5-b9b0-412b-a5ff-ae428a8254c2",
   "metadata": {},
   "outputs": [
    {
     "name": "stdout",
     "output_type": "stream",
     "text": [
      "1.11.0+cu113\n",
      "Using device: cuda\n"
     ]
    }
   ],
   "source": [
    "# always check your version\n",
    "print(torch.__version__)\n",
    "\n",
    "device = torch.device('cuda' if torch.cuda.is_available() else 'cpu')\n",
    "print('Using device:', device)"
   ]
  },
  {
   "cell_type": "code",
   "execution_count": 3,
   "id": "ee17d5c2-9743-44f6-9198-f793cc50f8c0",
   "metadata": {},
   "outputs": [],
   "source": [
    "import pandas as pd\n",
    "\n",
    "root_dir = '/root/'\n",
    "local_path = 'project/data/' # store the related data files in this folder\n",
    "ResultPath = root_dir + 'project/data/result/'\n",
    "\n",
    "data_dir = root_dir + local_path\n",
    "# print(data_dir)\n",
    "## Define paths to the training data and targets files\n",
    "data_path = data_dir + 'TrainingSet'\n",
    "csv_file_path = data_dir + 'DRAC2022_ Diabetic Retinopathy Grading_Training Labels.csv'\n",
    "# print(data_path)\n",
    "# print(csv_file_path)"
   ]
  },
  {
   "cell_type": "code",
   "execution_count": 4,
   "id": "87ce75ec-d3cb-4892-9685-604d02d149c7",
   "metadata": {},
   "outputs": [],
   "source": [
    "import pandas as pd\n",
    "from torch.utils.data import DataLoader, Dataset\n",
    "from torchvision import transforms\n",
    "\n",
    "# 自定义数据集类\n",
    "class OCTDataset(Dataset):\n",
    "    def __init__(self, csv_file, img_dir, transform=None):\n",
    "        self.data = pd.read_csv(csv_file)\n",
    "        self.img_dir = img_dir\n",
    "        self.transform = transform\n",
    "\n",
    "    def __len__(self):\n",
    "        return len(self.data)\n",
    "\n",
    "    def __getitem__(self, index):\n",
    "        img_name = self.data.iloc[index, 0]  # 图片名称在CSV文件的第一列\n",
    "        img_path = os.path.join(self.img_dir, img_name)  # 拼接图片路径\n",
    "        label = self.data.iloc[index, 1]  # 标签在CSV文件的第二列\n",
    "\n",
    "        # 读取图片数据\n",
    "        img = Image.open(img_path)\n",
    "\n",
    "        if self.transform:\n",
    "            img = self.transform(img)\n",
    "\n",
    "        return img, label\n"
   ]
  },
  {
   "cell_type": "code",
   "execution_count": 5,
   "id": "87adb00b-7549-4ea3-952b-42b2ccb77e0a",
   "metadata": {},
   "outputs": [],
   "source": [
    "# 定义数据集的转换\n",
    "mean = 0.413\n",
    "std = 0.278\n",
    "\n",
    "transform = transforms.Compose([\n",
    "    transforms.Resize((512, 512)),  # 将图像缩放到512x512\n",
    "    transforms.Grayscale(num_output_channels=3), \n",
    "    transforms.ToTensor(),  # 转换为张量\n",
    "    transforms.Normalize([mean], [std])  # 使用先前计算的均值和标准差进行标准化\n",
    "])"
   ]
  },
  {
   "cell_type": "code",
   "execution_count": 6,
   "id": "36b9fa77-46e2-4b7f-a05c-836a9019f1ec",
   "metadata": {},
   "outputs": [],
   "source": [
    "\n",
    "# 创建数据集\n",
    "csv_file = csv_file_path  # 包含图片名称和标签的CSV文件\n",
    "img_dir = data_path  # 图片所在的目录\n",
    "data_set = OCTDataset(csv_file, img_dir, transform=transform)\n"
   ]
  },
  {
   "cell_type": "code",
   "execution_count": 7,
   "id": "fa0cd908-9361-49ff-afe1-6e19901d004c",
   "metadata": {},
   "outputs": [
    {
     "name": "stdout",
     "output_type": "stream",
     "text": [
      "Number of training examples: 427\n",
      "Number of validation examples: 91\n",
      "Number of testing examples: 93\n"
     ]
    }
   ],
   "source": [
    "from torch.utils.data.dataset import random_split\n",
    "\n",
    "train_len = int(0.7 * len(data_set))\n",
    "valid_len = int(0.15 * len(data_set))\n",
    "test_len = len(data_set) - train_len - valid_len\n",
    "\n",
    "# 随机分割数据集\n",
    "train_dataset, valid_dataset, test_dataset = random_split(data_set, [train_len, valid_len, test_len])\n",
    "\n",
    "# 创建DataLoader\n",
    "batch_size = 32\n",
    "train_loader = DataLoader(train_dataset, batch_size=batch_size, shuffle=True)\n",
    "valid_loader = DataLoader(valid_dataset, batch_size=batch_size, shuffle=False)\n",
    "test_loader = DataLoader(test_dataset, batch_size=batch_size, shuffle=False)\n",
    "\n",
    "print(f'Number of training examples: {len(train_dataset)}')\n",
    "print(f'Number of validation examples: {len(valid_dataset)}')\n",
    "print(f'Number of testing examples: {len(test_dataset)}')"
   ]
  },
  {
   "cell_type": "code",
   "execution_count": 23,
   "id": "9fdce50c-79cd-4220-adc3-e7c8d7f7e1fd",
   "metadata": {},
   "outputs": [],
   "source": [
    "# 加载预训练的 EfficientNet\n",
    "base_model = timm.create_model('efficientnet_b0', pretrained=True, num_classes=0, in_chans=3)\n",
    "\n",
    "# 自定义的分类器\n",
    "class OCTClassifier(nn.Module):\n",
    "    def __init__(self, base_model):\n",
    "        super(OCTClassifier, self).__init__()\n",
    "        self.base_model = base_model\n",
    "        self.fc = nn.Sequential(\n",
    "            nn.Linear(base_model.num_features, 128),\n",
    "            nn.ReLU(),\n",
    "            nn.Dropout(0.2),\n",
    "            nn.Linear(128, 3),\n",
    "            # nn.Softmax(dim=1)\n",
    "        )\n",
    "        \n",
    "    def forward(self, x):\n",
    "        x = self.base_model(x)\n",
    "        x = self.fc(x)\n",
    "        return x\n",
    "\n",
    "efficientnetmodel = OCTClassifier(base_model)\n",
    "device = torch.device(\"cuda\" if torch.cuda.is_available() else \"cpu\")\n",
    "efficientnetmodel = efficientnetmodel.to(device)"
   ]
  },
  {
   "cell_type": "code",
   "execution_count": 20,
   "id": "c2ed4d51-bc3c-4426-85c5-51b31f3bd826",
   "metadata": {},
   "outputs": [],
   "source": [
    "# 加载预训练的 EfficientNet\n",
    "base_model = timm.create_model('efficientnet_b0', pretrained=True, num_classes=0, in_chans=3)"
   ]
  },
  {
   "cell_type": "code",
   "execution_count": 21,
   "id": "a39fb74b-f689-4672-a52d-13028d41755b",
   "metadata": {},
   "outputs": [],
   "source": [
    "class OCTClassifier(nn.Module):\n",
    "    def __init__(self, base_model, freeze_base=True):\n",
    "        super(OCTClassifier, self).__init__()\n",
    "        self.base_model = base_model\n",
    "\n",
    "        if freeze_base:\n",
    "            for param in self.base_model.parameters():\n",
    "                param.requires_grad = False\n",
    "\n",
    "        # 提取预训练模型的最后一层的输出特征数\n",
    "        num_features = base_model.fc.in_features if hasattr(base_model, 'fc') else base_model.classifier.in_features\n",
    "\n",
    "        self.fc = nn.Sequential(\n",
    "            nn.Linear(num_features, 128),\n",
    "            nn.ReLU(),\n",
    "            nn.Dropout(0.2),\n",
    "            nn.Linear(128, 3)\n",
    "        )\n",
    "        \n",
    "    def forward(self, x):\n",
    "        x = self.base_model(x)\n",
    "        x = self.fc(x)\n",
    "        return x\n"
   ]
  },
  {
   "cell_type": "code",
   "execution_count": 9,
   "id": "facbec1e-3fd4-49b8-bcf5-bc524c014a33",
   "metadata": {},
   "outputs": [],
   "source": [
    "def stats(loader, net):\n",
    "    correct = 0\n",
    "    total = 0\n",
    "    running_loss = 0\n",
    "    n = 0    # Counter for number of minibatches\n",
    "    with torch.no_grad():\n",
    "        for data in loader:\n",
    "            images, labels = data\n",
    "            images=images.to(device)\n",
    "            labels=labels.to(device)\n",
    "            outputs = net(images)      \n",
    "            \n",
    "            # Accumulate loss\n",
    "            running_loss += loss_fn(outputs, labels)\n",
    "            n += 1\n",
    "            \n",
    "            # Accumulate data for accuracy\n",
    "            _, predicted = torch.max(outputs.data, 1)\n",
    "            total += labels.size(0)    # Add in the number of labels in this minibatch\n",
    "            correct += (predicted == labels).sum().item()  # Add in the number of correct labels\n",
    "            \n",
    "    return running_loss/n, correct/total "
   ]
  },
  {
   "cell_type": "code",
   "execution_count": 24,
   "id": "2c942a05-4e88-4f49-8a98-14163e6459ff",
   "metadata": {},
   "outputs": [
    {
     "name": "stdout",
     "output_type": "stream",
     "text": [
      "epoch: 0 training loss:  0.691 training accuracy:  71.2%  validation loss:  0.569 validation accuracy:  76.9%\n",
      "epoch: 1 training loss:  0.459 training accuracy:  82.0%  validation loss:  0.630 validation accuracy:  78.0%\n",
      "epoch: 2 training loss:  0.349 training accuracy:  86.2%  validation loss:  0.540 validation accuracy:  72.5%\n",
      "epoch: 3 training loss:  0.251 training accuracy:  86.7%  validation loss:  0.949 validation accuracy:  73.6%\n",
      "epoch: 4 training loss:  0.162 training accuracy:  95.3%  validation loss:  1.270 validation accuracy:  75.8%\n",
      "epoch: 5 training loss:  0.221 training accuracy:  90.9%  validation loss:  0.569 validation accuracy:  81.3%\n",
      "epoch: 6 training loss:  0.147 training accuracy:  95.8%  validation loss:  0.635 validation accuracy:  80.2%\n",
      "epoch: 7 training loss:  0.134 training accuracy:  95.6%  validation loss:  0.778 validation accuracy:  75.8%\n",
      "epoch: 8 training loss:  0.111 training accuracy:  97.0%  validation loss:  0.856 validation accuracy:  78.0%\n",
      "epoch: 9 training loss:  0.065 training accuracy:  97.9%  validation loss:  1.029 validation accuracy:  78.0%\n",
      "epoch: 10 training loss:  0.064 training accuracy:  99.1%  validation loss:  1.327 validation accuracy:  73.6%\n",
      "epoch: 11 training loss:  0.079 training accuracy:  97.2%  validation loss:  1.168 validation accuracy:  79.1%\n",
      "epoch: 12 training loss:  0.170 training accuracy:  94.4%  validation loss:  1.100 validation accuracy:  76.9%\n",
      "epoch: 13 training loss:  0.170 training accuracy:  95.6%  validation loss:  0.958 validation accuracy:  79.1%\n",
      "epoch: 14 training loss:  0.067 training accuracy:  97.4%  validation loss:  0.973 validation accuracy:  80.2%\n",
      "epoch: 15 training loss:  0.061 training accuracy:  98.1%  validation loss:  1.155 validation accuracy:  79.1%\n",
      "epoch: 16 training loss:  0.034 training accuracy:  98.8%  validation loss:  1.070 validation accuracy:  79.1%\n",
      "epoch: 17 training loss:  0.023 training accuracy:  99.5%  validation loss:  1.399 validation accuracy:  79.1%\n",
      "epoch: 18 training loss:  0.064 training accuracy:  99.1%  validation loss:  1.434 validation accuracy:  80.2%\n",
      "epoch: 19 training loss:  0.033 training accuracy:  98.8%  validation loss:  1.272 validation accuracy:  80.2%\n",
      "epoch: 20 training loss:  0.054 training accuracy:  99.1%  validation loss:  1.386 validation accuracy:  79.1%\n",
      "epoch: 21 training loss:  0.017 training accuracy:  99.5%  validation loss:  1.228 validation accuracy:  81.3%\n",
      "epoch: 22 training loss:  0.022 training accuracy:  99.3%  validation loss:  1.687 validation accuracy:  79.1%\n",
      "epoch: 23 training loss:  0.064 training accuracy:  98.1%  validation loss:  1.646 validation accuracy:  79.1%\n",
      "epoch: 24 training loss:  0.070 training accuracy:  97.2%  validation loss:  1.279 validation accuracy:  79.1%\n",
      "epoch: 25 training loss:  0.146 training accuracy:  96.7%  validation loss:  0.954 validation accuracy:  75.8%\n",
      "epoch: 26 training loss:  0.205 training accuracy:  92.7%  validation loss:  0.938 validation accuracy:  76.9%\n",
      "epoch: 27 training loss:  0.136 training accuracy:  94.6%  validation loss:  0.730 validation accuracy:  84.6%\n",
      "epoch: 28 training loss:  0.070 training accuracy:  97.9%  validation loss:  0.985 validation accuracy:  76.9%\n",
      "epoch: 29 training loss:  0.131 training accuracy:  95.1%  validation loss:  1.421 validation accuracy:  76.9%\n",
      "epoch: 30 training loss:  0.187 training accuracy:  97.7%  validation loss:  1.231 validation accuracy:  80.2%\n",
      "epoch: 31 training loss:  0.060 training accuracy:  98.1%  validation loss:  0.980 validation accuracy:  75.8%\n",
      "epoch: 32 training loss:  0.056 training accuracy:  98.6%  validation loss:  1.197 validation accuracy:  74.7%\n",
      "epoch: 33 training loss:  0.049 training accuracy:  98.1%  validation loss:  1.005 validation accuracy:  79.1%\n",
      "epoch: 34 training loss:  0.036 training accuracy:  98.8%  validation loss:  1.124 validation accuracy:  76.9%\n",
      "epoch: 35 training loss:  0.018 training accuracy:  99.1%  validation loss:  1.245 validation accuracy:  78.0%\n",
      "epoch: 36 training loss:  0.072 training accuracy:  98.8%  validation loss:  1.455 validation accuracy:  80.2%\n",
      "epoch: 37 training loss:  0.045 training accuracy:  99.1%  validation loss:  1.037 validation accuracy:  79.1%\n",
      "epoch: 38 training loss:  0.046 training accuracy:  98.6%  validation loss:  1.020 validation accuracy:  78.0%\n",
      "epoch: 39 training loss:  0.015 training accuracy:  99.3%  validation loss:  1.078 validation accuracy:  81.3%\n",
      "epoch: 40 training loss:  0.040 training accuracy:  99.1%  validation loss:  0.937 validation accuracy:  82.4%\n",
      "epoch: 41 training loss:  0.034 training accuracy:  99.3%  validation loss:  1.301 validation accuracy:  81.3%\n",
      "epoch: 42 training loss:  0.016 training accuracy:  99.3%  validation loss:  1.514 validation accuracy:  78.0%\n",
      "epoch: 43 training loss:  0.080 training accuracy:  98.8%  validation loss:  1.375 validation accuracy:  78.0%\n",
      "epoch: 44 training loss:  0.189 training accuracy:  94.6%  validation loss:  0.552 validation accuracy:  84.6%\n",
      "epoch: 45 training loss:  0.142 training accuracy:  94.8%  validation loss:  0.961 validation accuracy:  74.7%\n",
      "epoch: 46 training loss:  0.084 training accuracy:  97.9%  validation loss:  0.990 validation accuracy:  79.1%\n",
      "epoch: 47 training loss:  0.028 training accuracy:  99.3%  validation loss:  1.310 validation accuracy:  79.1%\n",
      "epoch: 48 training loss:  0.069 training accuracy:  97.7%  validation loss:  1.196 validation accuracy:  79.1%\n",
      "epoch: 49 training loss:  0.047 training accuracy:  98.6%  validation loss:  1.057 validation accuracy:  79.1%\n"
     ]
    }
   ],
   "source": [
    "results_path = ResultPath + 'efficientnet_50epoches_adam.pt'\n",
    "nepochs = 50  # number of epochs \n",
    "statsrec = torch.zeros((4,nepochs),device='cuda')\n",
    "\n",
    "# Use a loss function and optimiser provided as part of PyTorch.\n",
    "# The chosen optimiser (Stochastic Gradient Descent with momentum) needs only to be given the parameters (weights and biases)\n",
    "# of the network and updates these when asked to perform an optimisation step below.\n",
    "loss_fn = nn.CrossEntropyLoss()\n",
    "loss_fn = loss_fn.to(device)\n",
    "optimizer = optim.Adam(efficientnetmodel.parameters(), lr=0.001)\n",
    "scheduler = torch.optim.lr_scheduler.ReduceLROnPlateau(optimizer, 'min')\n",
    "\n",
    "for epoch in range(nepochs):  # loop over the dataset multiple times\n",
    "\n",
    "    # initialise variables for mean loss calculation\n",
    "    correct = 0          # Number of examples predicted correctly (for accuracy)\n",
    "    total = 0            # Number of examples\n",
    "    running_loss = 0.0\n",
    "    n = 0\n",
    "    \n",
    "    for data in train_loader:\n",
    "        inputs, labels = data\n",
    "        inputs = inputs.to(device)\n",
    "        labels = labels.to(device)\n",
    "\n",
    "        # Zero the parameter gradients to remove accumulated gradient from a previous iteration.\n",
    "        optimizer.zero_grad()\n",
    "\n",
    "        # Forward, backward, and update parameters\n",
    "        outputs = efficientnetmodel(inputs)\n",
    "        loss = loss_fn(outputs, labels)\n",
    "        loss = loss.to(device)\n",
    "        loss.backward()\n",
    "        optimizer.step()\n",
    "    \n",
    "        # accumulate loss and increment minibatches\n",
    "        running_loss += loss.item()\n",
    "        n += 1\n",
    "\n",
    "        # Accumulate data for accuracy\n",
    "        _, predicted = torch.max(outputs.data, 1)\n",
    "        total += labels.size(0)    # Add in the number of labels in this minibatch\n",
    "        correct += (predicted == labels).sum().item()  # Add in the number of correct labels\n",
    "       \n",
    "    # record the mean loss for this epoch and show progress\n",
    "    ltrn = running_loss/n\n",
    "    atrn = correct/total \n",
    "    ltst, atst = stats(valid_loader, efficientnetmodel)\n",
    "    statsrec[:,epoch] = torch.tensor((ltrn, atrn, ltst, atst),device='cuda')\n",
    "\n",
    "    print(f\"epoch: {epoch} training loss: {ltrn: .3f} training accuracy: {atrn: .1%}  validation loss: {ltst: .3f} validation accuracy: {atst: .1%}\")\n",
    "\n",
    "# save network parameters and losses\n",
    "torch.save({\"state_dict\": efficientnetmodel.state_dict(), \"stats\": statsrec}, results_path)"
   ]
  },
  {
   "cell_type": "code",
   "execution_count": 25,
   "id": "62419640-0cfe-4c81-a10a-90f794a49a3e",
   "metadata": {},
   "outputs": [
    {
     "data": {
      "image/png": "[encoded data removed]",
      "text/plain": [
       "<Figure size 432x288 with 2 Axes>"
      ]
     },
     "metadata": {
      "needs_background": "light"
     },
     "output_type": "display_data"
    }
   ],
   "source": [
    "# graph\n",
    "results_path = ResultPath+'efficientnet_50epoches_adam.pt'\n",
    "data = torch.load(results_path)\n",
    "statsrec = data[\"stats\"].cpu().numpy()\n",
    "fig, ax1 = plt.subplots()\n",
    "plt.plot(statsrec[0], 'r', label = 'training loss', )\n",
    "plt.plot(statsrec[2], 'g', label = 'validation loss' )\n",
    "plt.legend(loc='lower right')\n",
    "plt.xlabel('epoch')\n",
    "plt.ylabel('loss')\n",
    "plt.title('Training and validation loss, and validation accuracy')\n",
    "ax2=ax1.twinx()\n",
    "ax2.plot(statsrec[1], 'm', label = 'training accuracy')\n",
    "ax2.plot(statsrec[3], 'b', label = 'validation accuracy')\n",
    "ax2.set_ylabel('accuracy')\n",
    "plt.legend(loc='upper right')\n",
    "plt.show()"
   ]
  },
  {
   "cell_type": "code",
   "execution_count": 26,
   "id": "be96939a-b6bc-4cf6-a506-e9d7e07d16a6",
   "metadata": {},
   "outputs": [],
   "source": [
    "import numpy as np\n",
    "import matplotlib.pyplot as plt\n",
    "from sklearn.metrics import confusion_matrix, classification_report\n",
    "# 在验证集上进行预测\n",
    "def predict(model, dataloader):\n",
    "    model.eval()\n",
    "    all_predictions = []\n",
    "    all_labels = []\n",
    "    all_probs = []\n",
    "    with torch.no_grad():\n",
    "        for images, labels in dataloader:\n",
    "            images = images.to(device)\n",
    "            labels = labels.to(device)\n",
    "            outputs = model(images)\n",
    "            _, predictions = torch.max(outputs, 1)\n",
    "            all_predictions.extend(predictions.cpu().numpy())\n",
    "            all_labels.extend(labels.cpu().numpy())\n",
    "            probs = torch.softmax(outputs, dim=1)\n",
    "            all_probs.extend(probs.cpu().numpy())\n",
    "    return np.array(all_predictions), np.array(all_labels), np.array(all_probs)\n"
   ]
  },
  {
   "cell_type": "code",
   "execution_count": 27,
   "id": "e8541a94-e0ac-411f-9c87-265daf46a6b8",
   "metadata": {},
   "outputs": [],
   "source": [
    "def plot_confusion_matrix(conf_matrix, classes, title='Confusion Matrix', cmap=plt.cm.Blues):\n",
    "    plt.figure(figsize=(8, 6))\n",
    "    plt.imshow(conf_matrix, interpolation='nearest', cmap=cmap)\n",
    "    plt.title(title)\n",
    "    plt.colorbar()\n",
    "\n",
    "    tick_marks = np.arange(len(classes))\n",
    "    plt.xticks(tick_marks, classes, rotation=45)\n",
    "    plt.yticks(tick_marks, classes)\n",
    "\n",
    "    thresh = conf_matrix.max() / 2.\n",
    "    for i, j in itertools.product(range(conf_matrix.shape[0]), range(conf_matrix.shape[1])):\n",
    "        plt.text(j, i, format(conf_matrix[i, j], 'd'),\n",
    "                 horizontalalignment=\"center\",\n",
    "                 color=\"white\" if conf_matrix[i, j] > thresh else \"black\")\n",
    "\n",
    "    plt.tight_layout()\n",
    "    plt.ylabel('True label')\n",
    "    plt.xlabel('Predicted label')\n",
    "    plt.show()\n"
   ]
  },
  {
   "cell_type": "code",
   "execution_count": 28,
   "id": "2602d31c-ec8e-435e-9759-4d810a845571",
   "metadata": {},
   "outputs": [
    {
     "name": "stdout",
     "output_type": "stream",
     "text": [
      "Confusion Matrix:\n",
      "[[43  2  0]\n",
      " [13 25  0]\n",
      " [ 0  4  4]]\n",
      "============================================\n",
      "Classification Report:\n",
      "              precision    recall  f1-score   support\n",
      "\n",
      "  DR grade 0       0.77      0.96      0.85        45\n",
      "  DR grade 1       0.81      0.66      0.72        38\n",
      "  DR grade 2       1.00      0.50      0.67         8\n",
      "\n",
      "    accuracy                           0.79        91\n",
      "   macro avg       0.86      0.70      0.75        91\n",
      "weighted avg       0.80      0.79      0.78        91\n",
      "\n"
     ]
    }
   ],
   "source": [
    "# 获取预测结果、真实标签和预测概率\n",
    "predictions, labels, probs = predict(efficientnetmodel, valid_loader)\n",
    "\n",
    "# 计算混淆矩阵\n",
    "confusion_mat = confusion_matrix(labels, predictions)\n",
    "print(\"Confusion Matrix:\")\n",
    "print(confusion_mat)\n",
    "print(\"============================================\")\n",
    "\n",
    "# 计算分类报告\n",
    "class_names = ['DR grade 0', 'DR grade 1', 'DR grade 2']\n",
    "classification_rep = classification_report(labels, predictions, target_names=class_names)\n",
    "print(\"Classification Report:\")\n",
    "print(classification_rep)\n"
   ]
  },
  {
   "cell_type": "code",
   "execution_count": 29,
   "id": "76dd0248-0272-4621-b1ec-7ff2a2e02274",
   "metadata": {},
   "outputs": [
    {
     "data": {
      "image/png": "[encoded data removed]",
      "text/plain": [
       "<Figure size 576x432 with 2 Axes>"
      ]
     },
     "metadata": {
      "needs_background": "light"
     },
     "output_type": "display_data"
    }
   ],
   "source": [
    "import itertools\n",
    "# 用图像显示混淆矩阵\n",
    "plot_confusion_matrix(confusion_mat, classes=class_names)\n"
   ]
  },
  {
   "cell_type": "code",
   "execution_count": 30,
   "id": "1121b42e-c847-4b04-88ba-ce4817d8230f",
   "metadata": {},
   "outputs": [
    {
     "data": {
      "image/png": "[encoded data removed]",
      "text/plain": [
       "<Figure size 432x288 with 1 Axes>"
      ]
     },
     "metadata": {
      "needs_background": "light"
     },
     "output_type": "display_data"
    },
    {
     "name": "stdout",
     "output_type": "stream",
     "text": [
      "Mean ROC-AUC Score: 0.9180\n"
     ]
    }
   ],
   "source": [
    "from sklearn.metrics import roc_curve, auc\n",
    "# 计算每个类别的ROC曲线和ROC-AUC分数\n",
    "fpr = dict()\n",
    "tpr = dict()\n",
    "roc_auc = dict()\n",
    "n_classes = len(class_names)\n",
    "for i in range(n_classes):\n",
    "    fpr[i], tpr[i], _ = roc_curve(labels == i, probs[:, i])\n",
    "    roc_auc[i] = auc(fpr[i], tpr[i])\n",
    "\n",
    "# 绘制每个类别的ROC曲线\n",
    "plt.figure()\n",
    "colors = ['blue', 'red', 'green']\n",
    "for i, color in zip(range(n_classes), colors):\n",
    "    plt.plot(fpr[i], tpr[i], color=color, label=f'Class {i} (AUC = {roc_auc[i]:.2f})')\n",
    "plt.plot([0, 1], [0, 1], color='black', linestyle='--')\n",
    "plt.xlabel('False Positive Rate')\n",
    "plt.ylabel('True Positive Rate')\n",
    "plt.title('ROC Curve - Multi-class')\n",
    "plt.legend()\n",
    "plt.show()\n",
    "\n",
    "# 计算平均ROC-AUC分数\n",
    "mean_roc_auc = np.mean(list(roc_auc.values()))\n",
    "print(f\"Mean ROC-AUC Score: {mean_roc_auc:.4f}\")"
   ]
  },
  {
   "cell_type": "code",
   "execution_count": null,
   "id": "a2e5f5c0-f7e4-408f-bc24-fa4df3c42718",
   "metadata": {},
   "outputs": [],
   "source": []
  },
  {
   "cell_type": "code",
   "execution_count": 31,
   "id": "d18b50c3-341f-4ee0-9329-c6bf6c80fa6e",
   "metadata": {},
   "outputs": [],
   "source": [
    "def test(model, test_loader, criterion):\n",
    "    test_loss = 0\n",
    "    accuracy = 0\n",
    "    with torch.no_grad():\n",
    "        for images, labels in test_loader:\n",
    "            images, labels = images.to(device), labels.to(device) # 移动到模型所在的设备\n",
    "            log_ps = model(images)\n",
    "            test_loss += criterion(log_ps, labels).item()\n",
    "\n",
    "            ps = torch.exp(log_ps)\n",
    "            top_p, top_class = ps.topk(1, dim=1)\n",
    "            equals = top_class == labels.view(*top_class.shape)\n",
    "            accuracy += torch.mean(equals.type(torch.FloatTensor)).item()\n",
    "\n",
    "    return test_loss / len(test_loader), accuracy / len(test_loader)\n"
   ]
  },
  {
   "cell_type": "code",
   "execution_count": 32,
   "id": "8ca65eb3-3676-4cb2-8bd7-873889f7ca44",
   "metadata": {},
   "outputs": [
    {
     "name": "stdout",
     "output_type": "stream",
     "text": [
      "Test Loss: 1.553.. Test Accuracy: 0.788\n"
     ]
    }
   ],
   "source": [
    "# 加载模型\n",
    "model = efficientnetmodel\n",
    "checkpoint = torch.load(ResultPath+'efficientnet_50epoches_adam.pt')\n",
    "model.load_state_dict(checkpoint['state_dict'])\n",
    "model.eval()\n",
    "\n",
    "# 如果有GPU则使用GPU\n",
    "device = torch.device(\"cuda\" if torch.cuda.is_available() else \"cpu\")\n",
    "model.to(device)\n",
    "\n",
    "# 定义损失函数\n",
    "criterion = torch.nn.CrossEntropyLoss() # 或者你训练时使用的损失函数\n",
    "\n",
    "# 运行测试\n",
    "test_loss, accuracy = test(model, test_loader, criterion)\n",
    "print(f\"Test Loss: {test_loss:.3f}.. \"\n",
    "      f\"Test Accuracy: {accuracy:.3f}\")"
   ]
  },
  {
   "cell_type": "code",
   "execution_count": null,
   "id": "32c1b79c-8dc9-4de7-94c7-41e66524cefc",
   "metadata": {},
   "outputs": [],
   "source": []
  }
 ],
 "metadata": {
  "kernelspec": {
   "display_name": "Python 3 (ipykernel)",
   "language": "python",
   "name": "python3"
  },
  "language_info": {
   "codemirror_mode": {
    "name": "ipython",
    "version": 3
   },
   "file_extension": ".py",
   "mimetype": "text/x-python",
   "name": "python",
   "nbconvert_exporter": "python",
   "pygments_lexer": "ipython3",
   "version": "3.8.10"
  }
 },
 "nbformat": 4,
 "nbformat_minor": 5
}
