{
 "cells": [
  {
   "cell_type": "code",
   "execution_count": 1,
   "id": "55b1beec",
   "metadata": {},
   "outputs": [],
   "source": [
    "import math\n",
    "import numpy as np\n",
    "import torch\n",
    "from torch import nn, optim\n",
    "import torchvision.transforms as transforms\n",
    "from torch.hub import load_state_dict_from_url\n",
    "import torchvision\n",
    "from PIL import Image\n",
    "import matplotlib.pyplot as plt\n",
    "import os\n",
    "from torch.utils.data import Dataset\n",
    "from torchvision import datasets, transforms\n",
    "from torchvision.datasets import ImageFolder\n",
    "from torchvision.transforms import transforms"
   ]
  },
  {
   "cell_type": "code",
   "execution_count": 2,
   "id": "6f0b852c",
   "metadata": {},
   "outputs": [
    {
     "name": "stdout",
     "output_type": "stream",
     "text": [
      "1.11.0+cu113\n",
      "Using device: cuda\n"
     ]
    }
   ],
   "source": [
    "# always check your version\n",
    "print(torch.__version__)\n",
    "\n",
    "device = torch.device('cuda' if torch.cuda.is_available() else 'cpu')\n",
    "print('Using device:', device)"
   ]
  },
  {
   "cell_type": "code",
   "execution_count": 3,
   "id": "66df8f03",
   "metadata": {},
   "outputs": [],
   "source": [
    "import pandas as pd\n",
    "\n",
    "root_dir = '/root/'\n",
    "local_path = 'project/data/' # store the related data files in this folder\n",
    "ResultPath = root_dir + 'project/data/result/'\n",
    "\n",
    "data_dir = root_dir + local_path\n",
    "# print(data_dir)\n",
    "## Define paths to the training data and targets files\n",
    "data_path = data_dir + 'TrainingSet'\n",
    "csv_file_path = data_dir + 'DRAC2022_ Diabetic Retinopathy Grading_Training Labels.csv'\n",
    "# print(data_path)\n",
    "# print(csv_file_path)"
   ]
  },
  {
   "cell_type": "code",
   "execution_count": 4,
   "id": "84317893",
   "metadata": {},
   "outputs": [],
   "source": [
    "import pandas as pd\n",
    "from torch.utils.data import DataLoader, Dataset\n",
    "from torchvision import transforms\n",
    "\n",
    "# 自定义数据集类\n",
    "class OCTDataset(Dataset):\n",
    "    def __init__(self, csv_file, img_dir, transform=None):\n",
    "        self.data = pd.read_csv(csv_file)\n",
    "        self.img_dir = img_dir\n",
    "        self.transform = transform\n",
    "\n",
    "    def __len__(self):\n",
    "        return len(self.data)\n",
    "\n",
    "    def __getitem__(self, index):\n",
    "        img_name = self.data.iloc[index, 0]  # 图片名称在CSV文件的第一列\n",
    "        img_path = os.path.join(self.img_dir, img_name)  # 拼接图片路径\n",
    "        label = self.data.iloc[index, 1]  # 标签在CSV文件的第二列\n",
    "\n",
    "        # 读取图片数据\n",
    "        img = Image.open(img_path)\n",
    "\n",
    "        if self.transform:\n",
    "            img = self.transform(img)\n",
    "\n",
    "        return img, label\n"
   ]
  },
  {
   "cell_type": "code",
   "execution_count": 5,
   "id": "45e4ab2c",
   "metadata": {},
   "outputs": [],
   "source": [
    "# 定义数据集的转换\n",
    "mean = 0.413\n",
    "std = 0.278\n",
    "\n",
    "transform = transforms.Compose([\n",
    "    transforms.Resize((512, 512)),  # 将图像缩放到512x512\n",
    "    transforms.ToTensor(),  # 转换为张量\n",
    "    transforms.Normalize([mean], [std])  # 使用先前计算的均值和标准差进行标准化\n",
    "])\n",
    "\n",
    "# 创建数据集\n",
    "csv_file = csv_file_path  # 包含图片名称和标签的CSV文件\n",
    "img_dir = data_path  # 图片所在的目录\n",
    "data_set = OCTDataset(csv_file, img_dir, transform=transform)\n"
   ]
  },
  {
   "cell_type": "code",
   "execution_count": 6,
   "id": "b1e20c66",
   "metadata": {},
   "outputs": [
    {
     "name": "stdout",
     "output_type": "stream",
     "text": [
      "Number of training examples: 427\n",
      "Number of validation examples: 91\n",
      "Number of testing examples: 93\n"
     ]
    }
   ],
   "source": [
    "from torch.utils.data.dataset import random_split\n",
    "\n",
    "train_len = int(0.7 * len(data_set))\n",
    "valid_len = int(0.15 * len(data_set))\n",
    "test_len = len(data_set) - train_len - valid_len\n",
    "\n",
    "# 随机分割数据集\n",
    "train_dataset, valid_dataset, test_dataset = random_split(data_set, [train_len, valid_len, test_len])\n",
    "\n",
    "# 创建DataLoader\n",
    "batch_size = 32\n",
    "train_loader = DataLoader(train_dataset, batch_size=batch_size, shuffle=True)\n",
    "valid_loader = DataLoader(valid_dataset, batch_size=batch_size, shuffle=False)\n",
    "test_loader = DataLoader(test_dataset, batch_size=batch_size, shuffle=False)\n",
    "\n",
    "print(f'Number of training examples: {len(train_dataset)}')\n",
    "print(f'Number of validation examples: {len(valid_dataset)}')\n",
    "print(f'Number of testing examples: {len(test_dataset)}')"
   ]
  },
  {
   "cell_type": "code",
   "execution_count": null,
   "id": "6e7e182c",
   "metadata": {},
   "outputs": [],
   "source": []
  },
  {
   "cell_type": "code",
   "execution_count": 7,
   "id": "5b8732cd",
   "metadata": {},
   "outputs": [],
   "source": [
    "\n",
    "import torchvision.models as models\n",
    "\n",
    "# 加载预训练的 ResNet模型，并调整通道数为1\n",
    "model = models.resnet50(pretrained=True)\n",
    "model.conv1 = nn.Conv2d(1, model.conv1.out_channels, kernel_size=model.conv1.kernel_size,\n",
    "                        stride=model.conv1.stride, padding=model.conv1.padding, bias=model.conv1.bias)\n",
    "\n",
    "# model = models.resnet18(pretrained=True)\n",
    "# model.conv1 = nn.Conv2d(1, model.conv1.out_channels, kernel_size=model.conv1.kernel_size,\n",
    "#                         stride=model.conv1.stride, padding=model.conv1.padding, bias=model.conv1.bias)\n",
    "\n",
    "# model = models.resnet34(pretrained=True)\n",
    "# model.conv1 = nn.Conv2d(1, model.conv1.out_channels, kernel_size=model.conv1.kernel_size,\n",
    "#                         stride=model.conv1.stride, padding=model.conv1.padding, bias=model.conv1.bias)\n",
    "\n",
    "# model = models.resnet101(pretrained=True)\n",
    "# model.conv1 = nn.Conv2d(1, model.conv1.out_channels, kernel_size=model.conv1.kernel_size,\n",
    "#                         stride=model.conv1.stride, padding=model.conv1.padding, bias=model.conv1.bias)\n",
    "\n",
    "# model = models.resnet152(pretrained=True)\n",
    "# model.conv1 = nn.Conv2d(1, model.conv1.out_channels, kernel_size=model.conv1.kernel_size,\n",
    "#                         stride=model.conv1.stride, padding=model.conv1.padding, bias=model.conv1.bias)\n",
    "\n",
    "\n",
    "\n",
    "resmodel = model.to(device)"
   ]
  },
  {
   "cell_type": "code",
   "execution_count": null,
   "id": "dd32d6b9",
   "metadata": {},
   "outputs": [],
   "source": []
  },
  {
   "cell_type": "code",
   "execution_count": 8,
   "id": "c7baec7a",
   "metadata": {},
   "outputs": [],
   "source": [
    "def stats(loader, net):\n",
    "    correct = 0\n",
    "    total = 0\n",
    "    running_loss = 0\n",
    "    n = 0    # Counter for number of minibatches\n",
    "    with torch.no_grad():\n",
    "        for data in loader:\n",
    "            images, labels = data\n",
    "            images=images.to(device)\n",
    "            labels=labels.to(device)\n",
    "            outputs = net(images)      \n",
    "            \n",
    "            # Accumulate loss\n",
    "            running_loss += loss_fn(outputs, labels)\n",
    "            n += 1\n",
    "            \n",
    "            # Accumulate data for accuracy\n",
    "            _, predicted = torch.max(outputs.data, 1)\n",
    "            total += labels.size(0)    # Add in the number of labels in this minibatch\n",
    "            correct += (predicted == labels).sum().item()  # Add in the number of correct labels\n",
    "            \n",
    "    return running_loss/n, correct/total "
   ]
  },
  {
   "cell_type": "code",
   "execution_count": 9,
   "id": "9d655552",
   "metadata": {},
   "outputs": [
    {
     "name": "stdout",
     "output_type": "stream",
     "text": [
      "epoch: 0 training loss:  2.154 training accuracy:  54.8%  validation loss:  0.944 validation accuracy:  54.9%\n",
      "epoch: 1 training loss:  0.730 training accuracy:  66.0%  validation loss:  0.730 validation accuracy:  61.5%\n",
      "epoch: 2 training loss:  0.693 training accuracy:  71.4%  validation loss:  0.632 validation accuracy:  69.2%\n",
      "epoch: 3 training loss:  0.573 training accuracy:  72.6%  validation loss:  0.674 validation accuracy:  65.9%\n",
      "epoch: 4 training loss:  0.426 training accuracy:  82.4%  validation loss:  0.670 validation accuracy:  67.0%\n",
      "epoch: 5 training loss:  0.336 training accuracy:  86.4%  validation loss:  0.711 validation accuracy:  67.0%\n",
      "epoch: 6 training loss:  0.369 training accuracy:  85.7%  validation loss:  0.753 validation accuracy:  71.4%\n",
      "epoch: 7 training loss:  0.259 training accuracy:  90.2%  validation loss:  0.796 validation accuracy:  68.1%\n",
      "epoch: 8 training loss:  0.259 training accuracy:  89.5%  validation loss:  0.972 validation accuracy:  63.7%\n",
      "epoch: 9 training loss:  0.147 training accuracy:  95.6%  validation loss:  0.730 validation accuracy:  64.8%\n",
      "epoch: 10 training loss:  0.079 training accuracy:  97.7%  validation loss:  0.766 validation accuracy:  70.3%\n",
      "epoch: 11 training loss:  0.043 training accuracy:  99.3%  validation loss:  0.996 validation accuracy:  68.1%\n",
      "epoch: 12 training loss:  0.116 training accuracy:  97.0%  validation loss:  1.388 validation accuracy:  62.6%\n",
      "epoch: 13 training loss:  0.190 training accuracy:  91.6%  validation loss:  1.272 validation accuracy:  63.7%\n",
      "epoch: 14 training loss:  0.177 training accuracy:  92.5%  validation loss:  1.153 validation accuracy:  65.9%\n",
      "epoch: 15 training loss:  0.230 training accuracy:  92.3%  validation loss:  1.370 validation accuracy:  64.8%\n",
      "epoch: 16 training loss:  0.123 training accuracy:  95.8%  validation loss:  1.150 validation accuracy:  65.9%\n",
      "epoch: 17 training loss:  0.086 training accuracy:  97.0%  validation loss:  1.156 validation accuracy:  68.1%\n",
      "epoch: 18 training loss:  0.070 training accuracy:  97.4%  validation loss:  1.093 validation accuracy:  64.8%\n",
      "epoch: 19 training loss:  0.060 training accuracy:  98.6%  validation loss:  1.304 validation accuracy:  62.6%\n",
      "epoch: 20 training loss:  0.061 training accuracy:  97.2%  validation loss:  1.325 validation accuracy:  63.7%\n",
      "epoch: 21 training loss:  0.037 training accuracy:  99.5%  validation loss:  1.275 validation accuracy:  68.1%\n",
      "epoch: 22 training loss:  0.021 training accuracy:  99.5%  validation loss:  1.347 validation accuracy:  65.9%\n",
      "epoch: 23 training loss:  0.018 training accuracy:  99.5%  validation loss:  1.201 validation accuracy:  64.8%\n",
      "epoch: 24 training loss:  0.013 training accuracy:  100.0%  validation loss:  1.177 validation accuracy:  69.2%\n",
      "epoch: 25 training loss:  0.007 training accuracy:  99.8%  validation loss:  1.322 validation accuracy:  68.1%\n",
      "epoch: 26 training loss:  0.024 training accuracy:  99.3%  validation loss:  1.385 validation accuracy:  61.5%\n",
      "epoch: 27 training loss:  0.011 training accuracy:  99.8%  validation loss:  1.462 validation accuracy:  65.9%\n",
      "epoch: 28 training loss:  0.026 training accuracy:  99.3%  validation loss:  1.331 validation accuracy:  64.8%\n",
      "epoch: 29 training loss:  0.008 training accuracy:  99.8%  validation loss:  1.332 validation accuracy:  64.8%\n",
      "epoch: 30 training loss:  0.003 training accuracy:  100.0%  validation loss:  1.390 validation accuracy:  64.8%\n",
      "epoch: 31 training loss:  0.002 training accuracy:  100.0%  validation loss:  1.457 validation accuracy:  64.8%\n",
      "epoch: 32 training loss:  0.004 training accuracy:  100.0%  validation loss:  1.431 validation accuracy:  67.0%\n",
      "epoch: 33 training loss:  0.002 training accuracy:  100.0%  validation loss:  1.493 validation accuracy:  68.1%\n",
      "epoch: 34 training loss:  0.001 training accuracy:  100.0%  validation loss:  1.508 validation accuracy:  67.0%\n",
      "epoch: 35 training loss:  0.001 training accuracy:  100.0%  validation loss:  1.517 validation accuracy:  67.0%\n",
      "epoch: 36 training loss:  0.001 training accuracy:  100.0%  validation loss:  1.512 validation accuracy:  67.0%\n",
      "epoch: 37 training loss:  0.000 training accuracy:  100.0%  validation loss:  1.529 validation accuracy:  68.1%\n",
      "epoch: 38 training loss:  0.000 training accuracy:  100.0%  validation loss:  1.549 validation accuracy:  67.0%\n",
      "epoch: 39 training loss:  0.001 training accuracy:  100.0%  validation loss:  1.545 validation accuracy:  68.1%\n",
      "epoch: 40 training loss:  0.001 training accuracy:  100.0%  validation loss:  1.554 validation accuracy:  69.2%\n",
      "epoch: 41 training loss:  0.001 training accuracy:  100.0%  validation loss:  1.577 validation accuracy:  68.1%\n",
      "epoch: 42 training loss:  0.000 training accuracy:  100.0%  validation loss:  1.590 validation accuracy:  68.1%\n",
      "epoch: 43 training loss:  0.000 training accuracy:  100.0%  validation loss:  1.600 validation accuracy:  68.1%\n",
      "epoch: 44 training loss:  0.000 training accuracy:  100.0%  validation loss:  1.610 validation accuracy:  68.1%\n",
      "epoch: 45 training loss:  0.000 training accuracy:  100.0%  validation loss:  1.615 validation accuracy:  68.1%\n",
      "epoch: 46 training loss:  0.000 training accuracy:  100.0%  validation loss:  1.622 validation accuracy:  68.1%\n",
      "epoch: 47 training loss:  0.000 training accuracy:  100.0%  validation loss:  1.628 validation accuracy:  68.1%\n",
      "epoch: 48 training loss:  0.000 training accuracy:  100.0%  validation loss:  1.636 validation accuracy:  68.1%\n",
      "epoch: 49 training loss:  0.000 training accuracy:  100.0%  validation loss:  1.641 validation accuracy:  68.1%\n"
     ]
    }
   ],
   "source": [
    "results_path = ResultPath + 'ResNet-50_50epoches_adam.pt'\n",
    "nepochs = 50  # number of epochs \n",
    "statsrec = torch.zeros((4,nepochs),device='cuda')\n",
    "\n",
    "# Use a loss function and optimiser provided as part of PyTorch.\n",
    "# The chosen optimiser (Stochastic Gradient Descent with momentum) needs only to be given the parameters (weights and biases)\n",
    "# of the network and updates these when asked to perform an optimisation step below.\n",
    "loss_fn = nn.CrossEntropyLoss()\n",
    "loss_fn = loss_fn.to(device)\n",
    "optimizer = optim.Adam(resmodel.parameters(), lr=0.001)\n",
    "scheduler = torch.optim.lr_scheduler.ReduceLROnPlateau(optimizer, 'min')\n",
    "\n",
    "for epoch in range(nepochs):  # loop over the dataset multiple times\n",
    "\n",
    "    # initialise variables for mean loss calculation\n",
    "    correct = 0          # Number of examples predicted correctly (for accuracy)\n",
    "    total = 0            # Number of examples\n",
    "    running_loss = 0.0\n",
    "    n = 0\n",
    "    \n",
    "    for data in train_loader:\n",
    "        inputs, labels = data\n",
    "        inputs = inputs.to(device)\n",
    "        labels = labels.to(device)\n",
    "\n",
    "        # Zero the parameter gradients to remove accumulated gradient from a previous iteration.\n",
    "        optimizer.zero_grad()\n",
    "\n",
    "        # Forward, backward, and update parameters\n",
    "        outputs = resmodel(inputs)\n",
    "        loss = loss_fn(outputs, labels)\n",
    "        loss = loss.to(device)\n",
    "        loss.backward()\n",
    "        optimizer.step()\n",
    "    \n",
    "        # accumulate loss and increment minibatches\n",
    "        running_loss += loss.item()\n",
    "        n += 1\n",
    "\n",
    "        # Accumulate data for accuracy\n",
    "        _, predicted = torch.max(outputs.data, 1)\n",
    "        total += labels.size(0)    # Add in the number of labels in this minibatch\n",
    "        correct += (predicted == labels).sum().item()  # Add in the number of correct labels\n",
    "       \n",
    "    # record the mean loss for this epoch and show progress\n",
    "    ltrn = running_loss/n\n",
    "    atrn = correct/total \n",
    "    ltst, atst = stats(valid_loader, resmodel)\n",
    "    statsrec[:,epoch] = torch.tensor((ltrn, atrn, ltst, atst),device='cuda')\n",
    "\n",
    "    print(f\"epoch: {epoch} training loss: {ltrn: .3f} training accuracy: {atrn: .1%}  validation loss: {ltst: .3f} validation accuracy: {atst: .1%}\")\n",
    "\n",
    "# save network parameters and losses\n",
    "torch.save({\"state_dict\": resmodel.state_dict(), \"stats\": statsrec}, results_path)"
   ]
  },
  {
   "cell_type": "code",
   "execution_count": 10,
   "id": "f4733add",
   "metadata": {},
   "outputs": [
    {
     "data": {
      "image/png": "[encoded data removed]",
      "text/plain": [
       "<Figure size 432x288 with 2 Axes>"
      ]
     },
     "metadata": {
      "needs_background": "light"
     },
     "output_type": "display_data"
    }
   ],
   "source": [
    "# graph\n",
    "results_path = ResultPath+'ResNet-50_50epoches_adam.pt'\n",
    "data = torch.load(results_path)\n",
    "statsrec = data[\"stats\"].cpu().numpy()\n",
    "fig, ax1 = plt.subplots()\n",
    "plt.plot(statsrec[0], 'r', label = 'training loss', )\n",
    "plt.plot(statsrec[2], 'g', label = 'validation loss' )\n",
    "plt.legend(loc='lower right')\n",
    "plt.xlabel('epoch')\n",
    "plt.ylabel('loss')\n",
    "plt.title('Training and validation loss, and validation accuracy')\n",
    "ax2=ax1.twinx()\n",
    "ax2.plot(statsrec[1], 'm', label = 'training accuracy')\n",
    "ax2.plot(statsrec[3], 'b', label = 'validation accuracy')\n",
    "ax2.set_ylabel('accuracy')\n",
    "plt.legend(loc='upper right')\n",
    "plt.show()"
   ]
  },
  {
   "cell_type": "code",
   "execution_count": 11,
   "id": "7cdf5881",
   "metadata": {},
   "outputs": [],
   "source": [
    "import numpy as np\n",
    "import matplotlib.pyplot as plt\n",
    "from sklearn.metrics import confusion_matrix, classification_report\n",
    "# 在验证集上进行预测\n",
    "def predict(model, dataloader):\n",
    "    model.eval()\n",
    "    all_predictions = []\n",
    "    all_labels = []\n",
    "    all_probs = []\n",
    "    with torch.no_grad():\n",
    "        for images, labels in dataloader:\n",
    "            images = images.to(device)\n",
    "            labels = labels.to(device)\n",
    "            outputs = model(images)\n",
    "            _, predictions = torch.max(outputs, 1)\n",
    "            all_predictions.extend(predictions.cpu().numpy())\n",
    "            all_labels.extend(labels.cpu().numpy())\n",
    "            probs = torch.softmax(outputs, dim=1)\n",
    "            all_probs.extend(probs.cpu().numpy())\n",
    "    return np.array(all_predictions), np.array(all_labels), np.array(all_probs)\n"
   ]
  },
  {
   "cell_type": "code",
   "execution_count": 12,
   "id": "54942784-6adb-45e2-b234-e03f387f942d",
   "metadata": {},
   "outputs": [],
   "source": [
    "def plot_confusion_matrix(conf_matrix, classes, title='Confusion Matrix', cmap=plt.cm.Blues):\n",
    "    plt.figure(figsize=(8, 6))\n",
    "    plt.imshow(conf_matrix, interpolation='nearest', cmap=cmap)\n",
    "    plt.title(title)\n",
    "    plt.colorbar()\n",
    "\n",
    "    tick_marks = np.arange(len(classes))\n",
    "    plt.xticks(tick_marks, classes, rotation=45)\n",
    "    plt.yticks(tick_marks, classes)\n",
    "\n",
    "    thresh = conf_matrix.max() / 2.\n",
    "    for i, j in itertools.product(range(conf_matrix.shape[0]), range(conf_matrix.shape[1])):\n",
    "        plt.text(j, i, format(conf_matrix[i, j], 'd'),\n",
    "                 horizontalalignment=\"center\",\n",
    "                 color=\"white\" if conf_matrix[i, j] > thresh else \"black\")\n",
    "\n",
    "    plt.tight_layout()\n",
    "    plt.ylabel('True label')\n",
    "    plt.xlabel('Predicted label')\n",
    "    plt.show()\n"
   ]
  },
  {
   "cell_type": "code",
   "execution_count": 14,
   "id": "a6e1e901-b744-4089-a4e9-d6bbe84313d4",
   "metadata": {},
   "outputs": [
    {
     "name": "stdout",
     "output_type": "stream",
     "text": [
      "Confusion Matrix:\n",
      "[[45  3  0]\n",
      " [13 10  6]\n",
      " [ 0  7  7]]\n",
      "============================================\n",
      "Classification Report:\n",
      "              precision    recall  f1-score   support\n",
      "\n",
      "  DR grade 0       0.78      0.94      0.85        48\n",
      "  DR grade 1       0.50      0.34      0.41        29\n",
      "  DR grade 2       0.54      0.50      0.52        14\n",
      "\n",
      "    accuracy                           0.68        91\n",
      "   macro avg       0.60      0.59      0.59        91\n",
      "weighted avg       0.65      0.68      0.66        91\n",
      "\n"
     ]
    }
   ],
   "source": [
    "# 获取预测结果、真实标签和预测概率\n",
    "predictions, labels, probs = predict(resmodel, valid_loader)\n",
    "\n",
    "# 计算混淆矩阵\n",
    "confusion_mat = confusion_matrix(labels, predictions)\n",
    "print(\"Confusion Matrix:\")\n",
    "print(confusion_mat)\n",
    "print(\"============================================\")\n",
    "\n",
    "# 计算分类报告\n",
    "class_names = ['DR grade 0', 'DR grade 1', 'DR grade 2']\n",
    "classification_rep = classification_report(labels, predictions, target_names=class_names)\n",
    "print(\"Classification Report:\")\n",
    "print(classification_rep)\n"
   ]
  },
  {
   "cell_type": "code",
   "execution_count": 16,
   "id": "acea7447-38e4-494f-ae4a-dd94ab257737",
   "metadata": {},
   "outputs": [
    {
     "data": {
      "image/png": "[encoded data removed]",
      "text/plain": [
       "<Figure size 576x432 with 2 Axes>"
      ]
     },
     "metadata": {
      "needs_background": "light"
     },
     "output_type": "display_data"
    }
   ],
   "source": [
    "import itertools\n",
    "# 用图像显示混淆矩阵\n",
    "plot_confusion_matrix(confusion_mat, classes=class_names)\n"
   ]
  },
  {
   "cell_type": "code",
   "execution_count": 17,
   "id": "a37ad8ef",
   "metadata": {},
   "outputs": [
    {
     "data": {
      "image/png": "[encoded data removed]",
      "text/plain": [
       "<Figure size 432x288 with 1 Axes>"
      ]
     },
     "metadata": {
      "needs_background": "light"
     },
     "output_type": "display_data"
    },
    {
     "name": "stdout",
     "output_type": "stream",
     "text": [
      "Mean ROC-AUC Score: 0.8464\n"
     ]
    }
   ],
   "source": [
    "from sklearn.metrics import roc_curve, auc\n",
    "# 计算每个类别的ROC曲线和ROC-AUC分数\n",
    "fpr = dict()\n",
    "tpr = dict()\n",
    "roc_auc = dict()\n",
    "n_classes = len(class_names)\n",
    "for i in range(n_classes):\n",
    "    fpr[i], tpr[i], _ = roc_curve(labels == i, probs[:, i])\n",
    "    roc_auc[i] = auc(fpr[i], tpr[i])\n",
    "\n",
    "# 绘制每个类别的ROC曲线\n",
    "plt.figure()\n",
    "colors = ['blue', 'red', 'green']\n",
    "for i, color in zip(range(n_classes), colors):\n",
    "    plt.plot(fpr[i], tpr[i], color=color, label=f'Class {i} (AUC = {roc_auc[i]:.2f})')\n",
    "plt.plot([0, 1], [0, 1], color='black', linestyle='--')\n",
    "plt.xlabel('False Positive Rate')\n",
    "plt.ylabel('True Positive Rate')\n",
    "plt.title('ROC Curve - Multi-class')\n",
    "plt.legend()\n",
    "plt.show()\n",
    "\n",
    "# 计算平均ROC-AUC分数\n",
    "mean_roc_auc = np.mean(list(roc_auc.values()))\n",
    "print(f\"Mean ROC-AUC Score: {mean_roc_auc:.4f}\")"
   ]
  },
  {
   "cell_type": "code",
   "execution_count": 18,
   "id": "b5fa502e",
   "metadata": {},
   "outputs": [],
   "source": [
    "def test(model, test_loader, criterion):\n",
    "    test_loss = 0\n",
    "    accuracy = 0\n",
    "    with torch.no_grad():\n",
    "        for images, labels in test_loader:\n",
    "            images, labels = images.to(device), labels.to(device) # 移动到模型所在的设备\n",
    "            log_ps = model(images)\n",
    "            test_loss += criterion(log_ps, labels).item()\n",
    "\n",
    "            ps = torch.exp(log_ps)\n",
    "            top_p, top_class = ps.topk(1, dim=1)\n",
    "            equals = top_class == labels.view(*top_class.shape)\n",
    "            accuracy += torch.mean(equals.type(torch.FloatTensor)).item()\n",
    "\n",
    "    return test_loss / len(test_loader), accuracy / len(test_loader)\n"
   ]
  },
  {
   "cell_type": "code",
   "execution_count": 19,
   "id": "f2396270",
   "metadata": {
    "scrolled": true
   },
   "outputs": [
    {
     "name": "stdout",
     "output_type": "stream",
     "text": [
      "Test Loss: 1.454.. Test Accuracy: 0.705\n"
     ]
    }
   ],
   "source": [
    "# 加载模型\n",
    "model = resmodel\n",
    "checkpoint = torch.load(ResultPath+'ResNet-50_50epoches_adam.pt')\n",
    "model.load_state_dict(checkpoint['state_dict'])\n",
    "model.eval()\n",
    "\n",
    "# 如果有GPU则使用GPU\n",
    "device = torch.device(\"cuda\" if torch.cuda.is_available() else \"cpu\")\n",
    "model.to(device)\n",
    "\n",
    "# 定义损失函数\n",
    "criterion = torch.nn.CrossEntropyLoss() # 或者你训练时使用的损失函数\n",
    "\n",
    "# 运行测试\n",
    "test_loss, accuracy = test(model, test_loader, criterion)\n",
    "print(f\"Test Loss: {test_loss:.3f}.. \"\n",
    "      f\"Test Accuracy: {accuracy:.3f}\")\n"
   ]
  },
  {
   "cell_type": "code",
   "execution_count": null,
   "id": "1b01b54f",
   "metadata": {},
   "outputs": [],
   "source": []
  }
 ],
 "metadata": {
  "kernelspec": {
   "display_name": "Python 3 (ipykernel)",
   "language": "python",
   "name": "python3"
  },
  "language_info": {
   "codemirror_mode": {
    "name": "ipython",
    "version": 3
   },
   "file_extension": ".py",
   "mimetype": "text/x-python",
   "name": "python",
   "nbconvert_exporter": "python",
   "pygments_lexer": "ipython3",
   "version": "3.8.10"
  }
 },
 "nbformat": 4,
 "nbformat_minor": 5
}
